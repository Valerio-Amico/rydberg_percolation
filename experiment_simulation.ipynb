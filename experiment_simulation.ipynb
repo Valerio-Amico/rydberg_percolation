{
 "cells": [
  {
   "cell_type": "code",
   "execution_count": 1,
   "metadata": {},
   "outputs": [],
   "source": [
    "import matplotlib.pyplot as plt\n",
    "from IPython.display import clear_output\n",
    "from matplotlib.animation import FuncAnimation, ArtistAnimation\n",
    "from scipy.constants import hbar\n",
    "#from rydbperc.cython_utilities import util\n",
    "from rydbperc import ryperc\n",
    "from rydbperc import twoatoms\n",
    "import numpy as np"
   ]
  },
  {
   "cell_type": "code",
   "execution_count": 2,
   "metadata": {},
   "outputs": [],
   "source": [
    "def experiment(\n",
    "        N_points = 5000,\n",
    "        detuning_IR = 25, # detuning [MHz]\n",
    "        dt = 1, # [us]\n",
    "        evo_time = 1500, # [us]\n",
    "        power_blue = 1.5e-3,\n",
    "        waste_blue = 40e-6,\n",
    "        power_IR = 40e-3,\n",
    "        waste_IR = 100e-6,\n",
    "        detuning_blue = 400,\n",
    "        p_facilitation = 0,\n",
    "        shape = [80,80,80], # shape MOT in microns\n",
    "        repetitions = 10\n",
    "        ):\n",
    "    if detuning_IR == 0:\n",
    "        detuning_IR = 0.001\n",
    "\n",
    "    text = \"simulation parameters:\\n\"\n",
    "    text += \"detuning from Rydberg = %.1f \\n\"%detuning_IR\n",
    "\n",
    "    C6 = 0.870 *10**6\n",
    "    gamma_def = 4.4 # [MHz]\n",
    "    radius_shell = (C6/(detuning_IR))**(1/6)\n",
    "    delta_radius_shell = radius_shell*(gamma_def/(6*detuning_IR))\n",
    "\n",
    "    text += \"facilitation shell radius and delta = %.1f +- %.4f \\n\" %(radius_shell,delta_radius_shell/2)\n",
    "\n",
    "    N_steps = int(evo_time/dt)\n",
    "\n",
    "    atom = twoatoms.single_atom(power_blue, waste_blue, power_IR, waste_IR, detuning_blue, detuning_IR=detuning_IR)#, power_depumping=10e-3, waste_depumping=100e-6)\n",
    "    rho0 = np.zeros([4,4])\n",
    "    rho0[0,0] = 1\n",
    "    steps = 10000\n",
    "    time = dt\n",
    "    atom.evolve(time, steps, rho0)\n",
    "\n",
    "    text += \"two photon rabi freq. = %.3f MHz\\n\"%atom.two_photon_rabi_freq\n",
    "\n",
    "    radius_blokade = atom.radius_blokade\n",
    "    text += \"blokade radius = %.1f um\\n\" %(atom.radius_blokade)\n",
    "    text += \"number of steps = %d \\n\"%N_steps\n",
    "\n",
    "    p_spont_exc = atom.get_excitation_probability()\n",
    "    p_spont_emi = atom.Gamma_70s * dt\n",
    "\n",
    "    text += \"probabiliy of one atom in one step of:\\n\"\n",
    "    text += \" . spontaneous excitation  = %.4f \\n\"%(p_spont_exc*N_steps)\n",
    "    text += \" . spontaneous emission = %.4f \\n\"%p_spont_emi\n",
    "    text += \" . facilitated excitation = %.4f \\n\"%p_facilitation\n",
    "\n",
    "    density = N_points/(shape[0]*shape[1]*shape[2]*10**-2) # atoms/cm^3\n",
    "\n",
    "    text += \"mean density = %.1f 10^10\\n\"%density\n",
    "    print(text)\n",
    "    excs = []\n",
    "    for _ in range(repetitions):\n",
    "        clear_output(wait=True)\n",
    "        print(text, \"status: %.1f %%\"%_)\n",
    "        clu = ryperc.cluster3D(N_points, shape, distribution=\"uniform\")\n",
    "\n",
    "        clu.set_evolution_parameters(\n",
    "                                    shell_radius=radius_shell, \n",
    "                                    shell_delta=delta_radius_shell, \n",
    "                                    blokade_radius=radius_blokade,\n",
    "                                    p_spont_exct=p_spont_exc, \n",
    "                                    p_emission=p_spont_emi, \n",
    "                                    p_fac=p_facilitation\n",
    "                                    )\n",
    "\n",
    "        excs.append(clu.evolve(N_steps))\n",
    "    return np.mean(excs, axis=0), np.std(excs, axis=0)"
   ]
  },
  {
   "cell_type": "code",
   "execution_count": 3,
   "metadata": {},
   "outputs": [
    {
     "name": "stdout",
     "output_type": "stream",
     "text": [
      "simulation parameters:\n",
      "detuning from Rydberg = 100.0 \n",
      "facilitation shell radius and delta = 4.5 +- 0.0166 \n",
      "two photon rabi freq. = 0.309 MHz\n",
      "blokade radius = 11.9 um\n",
      "number of steps = 1500 \n",
      "probabiliy of one atom in one step of:\n",
      " . spontaneous excitation  = 0.0061 \n",
      " . spontaneous emission = 0.0027 \n",
      " . facilitated excitation = 0.0000 \n",
      "mean density = 1.0 10^10\n",
      " status: 9.0 %\n"
     ]
    }
   ],
   "source": [
    "evo_time = 1500\n",
    "dt = 1\n",
    "\n",
    "res, res_std = experiment(\n",
    "        N_points = 5000,\n",
    "        detuning_IR = 100, # detuning [MHz]\n",
    "        dt = dt, # [us]\n",
    "        evo_time = evo_time, # [us]\n",
    "        power_blue = 1.5e-3,\n",
    "        waste_blue = 40e-6,\n",
    "        power_IR = 40e-3,\n",
    "        waste_IR = 100e-6,\n",
    "        detuning_blue = 400,\n",
    "        p_facilitation = 0,\n",
    "        shape = [80,80,80], # shape MOT in microns\n",
    "        repetitions = 10\n",
    "        )"
   ]
  },
  {
   "cell_type": "code",
   "execution_count": 37,
   "metadata": {},
   "outputs": [
    {
     "data": {
      "image/png": "[encoded data removed]",
      "text/plain": [
       "<Figure size 432x288 with 1 Axes>"
      ]
     },
     "metadata": {
      "needs_background": "light"
     },
     "output_type": "display_data"
    }
   ],
   "source": [
    "x = np.linspace(0, evo_time, len(res))\n",
    "plt.fill_between(x, res-res_std, res+res_std)\n",
    "plt.show()"
   ]
  },
  {
   "cell_type": "code",
   "execution_count": 6,
   "metadata": {},
   "outputs": [
    {
     "name": "stdout",
     "output_type": "stream",
     "text": [
      "simulation parameters:\n",
      "detuning from Rydberg = 80.0 \n",
      "facilitation shell radius and delta = 4.7 +- 0.0216 \n",
      "blokade radius = 11.9 um\n",
      "number of steps = 100 \n",
      "probabiliy of one atom in one step of:\n",
      " . spontaneous excitation  = 0.0006 \n",
      " . spontaneous emission = 0.0027 \n",
      " . facilitated excitation = 0.0000 \n",
      "mean density = 1.0 10^10\n",
      " status: 9.0 %\n"
     ]
    }
   ],
   "source": [
    "detunings = np.linspace(0.01, 80, 10)\n",
    "N_points = 5000\n",
    "evo_time = 100\n",
    "res1 = []\n",
    "for detuning_IR in detunings:\n",
    "    print(detuning_IR)\n",
    "    res1.append(experiment(evo_time=evo_time, detuning_IR=detuning_IR)[-1])"
   ]
  },
  {
   "cell_type": "code",
   "execution_count": 7,
   "metadata": {},
   "outputs": [
    {
     "data": {
      "image/png": "[encoded data removed]",
      "text/plain": [
       "<Figure size 432x288 with 1 Axes>"
      ]
     },
     "metadata": {
      "needs_background": "light"
     },
     "output_type": "display_data"
    }
   ],
   "source": [
    "plt.plot(detunings, res1)\n",
    "plt.plot(-detunings, res1)\n",
    "plt.show()"
   ]
  },
  {
   "cell_type": "code",
   "execution_count": 8,
   "metadata": {},
   "outputs": [
    {
     "name": "stdout",
     "output_type": "stream",
     "text": [
      "simulation parameters:\n",
      "detuning from Rydberg = 80.0 \n",
      "facilitation shell radius and delta = 4.7 +- 0.0216 \n",
      "blokade radius = 11.9 um\n",
      "number of steps = 100 \n",
      "probabiliy of one atom in one step of:\n",
      " . spontaneous excitation  = 0.0006 \n",
      " . spontaneous emission = 0.0027 \n",
      " . facilitated excitation = 0.2000 \n",
      "mean density = 1.0 10^10\n",
      " status: 9.0 %\n"
     ]
    }
   ],
   "source": [
    "detunings = np.linspace(1, 80, 10)\n",
    "N_points = 1000\n",
    "evo_time = 100\n",
    "res1 = []\n",
    "for detuning_IR in detunings:\n",
    "    print(detuning_IR)\n",
    "    res1.append(experiment(evo_time=evo_time, p_facilitation=0.2, detuning_IR=detuning_IR)[-1])"
   ]
  },
  {
   "cell_type": "code",
   "execution_count": 9,
   "metadata": {},
   "outputs": [
    {
     "data": {
      "image/png": "[encoded data removed]",
      "text/plain": [
       "<Figure size 432x288 with 1 Axes>"
      ]
     },
     "metadata": {
      "needs_background": "light"
     },
     "output_type": "display_data"
    }
   ],
   "source": [
    "plt.plot(detunings, res1)\n",
    "#plt.plot(-detunings, res1)\n",
    "plt.show()"
   ]
  },
  {
   "cell_type": "code",
   "execution_count": 21,
   "metadata": {},
   "outputs": [
    {
     "name": "stdout",
     "output_type": "stream",
     "text": [
      "simulation parameters:\n",
      "detuning from Rydberg = 80.0 \n",
      "facilitation shell radius and delta = 4.7 +- 0.0216 \n",
      "blokade radius = 11.9 um\n",
      "number of steps = 1000 \n",
      "probabiliy of one atom in one step of:\n",
      " . spontaneous excitation  = 0.0061 \n",
      " . spontaneous emission = 0.0027 \n",
      " . facilitated excitation = 0.2000 \n",
      "mean density = 0.2 10^10\n",
      " status: 9.0 %\n",
      "0.2\n"
     ]
    }
   ],
   "source": [
    "detuning_IR = 80\n",
    "N_points = 1000\n",
    "evo_time = 1000\n",
    "res1 = []\n",
    "p_facs = np.linspace(0,0.2, 10)\n",
    "for p_facilitation in p_facs:\n",
    "    res1.append(experiment(N_points = N_points, evo_time=evo_time, p_facilitation=p_facilitation, detuning_IR=detuning_IR)[-1])\n",
    "    print(p_facilitation)"
   ]
  },
  {
   "cell_type": "code",
   "execution_count": 22,
   "metadata": {},
   "outputs": [
    {
     "data": {
      "image/png": "[encoded data removed]",
      "text/plain": [
       "<Figure size 432x288 with 1 Axes>"
      ]
     },
     "metadata": {
      "needs_background": "light"
     },
     "output_type": "display_data"
    }
   ],
   "source": [
    "plt.plot(p_facs, res1, \"o\")\n",
    "#plt.plot(-detunings, res1)\n",
    "plt.show()"
   ]
  },
  {
   "cell_type": "code",
   "execution_count": 12,
   "metadata": {},
   "outputs": [
    {
     "data": {
      "text/plain": [
       "0.009298914238853243"
      ]
     },
     "execution_count": 12,
     "metadata": {},
     "output_type": "execute_result"
    }
   ],
   "source": [
    "hbar*(2*np.pi/1013+2*np.pi/420)*10**9/(2.4 * 10**-25)"
   ]
  },
  {
   "cell_type": "code",
   "execution_count": 13,
   "metadata": {},
   "outputs": [
    {
     "data": {
      "text/plain": [
       "6.62607015e-34"
      ]
     },
     "execution_count": 13,
     "metadata": {},
     "output_type": "execute_result"
    }
   ],
   "source": [
    "hbar*2*np.pi"
   ]
  },
  {
   "cell_type": "code",
   "execution_count": null,
   "metadata": {},
   "outputs": [],
   "source": []
  }
 ],
 "metadata": {
  "kernelspec": {
   "display_name": "Python 3.10.2 64-bit",
   "language": "python",
   "name": "python3"
  },
  "language_info": {
   "codemirror_mode": {
    "name": "ipython",
    "version": 3
   },
   "file_extension": ".py",
   "mimetype": "text/x-python",
   "name": "python",
   "nbconvert_exporter": "python",
   "pygments_lexer": "ipython3",
   "version": "3.10.2"
  },
  "orig_nbformat": 4,
  "vscode": {
   "interpreter": {
    "hash": "aee8b7b246df8f9039afb4144a1f6fd8d2ca17a180786b69acc140d282b71a49"
   }
  }
 },
 "nbformat": 4,
 "nbformat_minor": 2
}
