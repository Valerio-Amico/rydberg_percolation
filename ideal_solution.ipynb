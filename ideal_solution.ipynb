{
 "cells": [
  {
   "attachments": {},
   "cell_type": "markdown",
   "metadata": {},
   "source": [
    "here an exact simulation of the system is done. actually is not exact, it's good only for high dephasing conditions.\n",
    "$$\n",
    "\\dot{V} = \\sum_k \\Gamma_k [ \\sigma_k^+ - (1-n_k) ] V + \\sum_k (\\Gamma_k+\\Gamma_{ry}) [ \\sigma_k^- -n_k ] V\n",
    "$$"
   ]
  },
  {
   "cell_type": "code",
   "execution_count": 1,
   "metadata": {},
   "outputs": [],
   "source": [
    "import numpy as np\n",
    "from scipy.spatial import KDTree\n",
    "from scipy.integrate import solve_ivp\n",
    "from scipy.stats import truncnorm\n",
    "import matplotlib.pyplot as plt\n",
    "from IPython.display import clear_output\n",
    "from rydbperc2 import ryperc2"
   ]
  },
  {
   "cell_type": "code",
   "execution_count": 2,
   "metadata": {},
   "outputs": [],
   "source": [
    "def truncated_normal(mean=0, sd=1, low=0, upp=1):\n",
    "    \"\"\" \n",
    "    retruns a truncated normal distribution.\n",
    "    args:\n",
    "        mean (float): mean\n",
    "        sd (float): standard deviation\n",
    "        low (float): lower bound\n",
    "        upp (float): upper bound\n",
    "    returns:\n",
    "        scipy.stats.truncnorm object\n",
    "    \"\"\"\n",
    "    return truncnorm((low - mean)/sd, (upp - mean)/sd, loc=mean, scale=sd)\n",
    "\n",
    "class ideal_cluster3D:\n",
    "    def __init__(self, size, shape=[1,1,1], distribution=\"uniform\", MOT_radius=None, is_2D = False) -> None:\n",
    "        self.size = size\n",
    "        self.shape = shape\n",
    "        self.distribution = distribution\n",
    "        self.is_2D = is_2D\n",
    "        if distribution == \"gaussian\": \n",
    "            if MOT_radius == None or MOT_radius <= 0:\n",
    "                print(\"\\\"MOT_radius\\\" must be a positive float.\")\n",
    "                raise\n",
    "            self.MOT_radius = MOT_radius\n",
    "        self.KDT = self.get_KDT()\n",
    "        self.magnetization_vector_ = magnetization_vector(size)\n",
    "        pass\n",
    "\n",
    "    def get_KDT(self):\n",
    "        \"\"\" \n",
    "        generates the point positions and creates the KDtree.\n",
    "        \"\"\"\n",
    "        if self.distribution == \"uniform\":\n",
    "            positions = np.array([\n",
    "                                np.random.random(self.size)*self.shape[0]-self.shape[0]/2, \n",
    "                                np.random.random(self.size)*self.shape[1]-self.shape[1]/2, \n",
    "                                np.random.random(self.size)*self.shape[2]-self.shape[2]/2 if self.is_2D==False else np.zeros(self.size)\n",
    "                                ], dtype=object)\n",
    "        elif self.distribution == \"gaussian\":\n",
    "            positions = np.array([\n",
    "                                truncated_normal(0, self.MOT_radius, -self.shape[0]/2, self.shape[0]/2).rvs(self.size), \n",
    "                                truncated_normal(0, self.MOT_radius, -self.shape[1]/2, self.shape[1]/2).rvs(self.size), \n",
    "                                truncated_normal(0, self.MOT_radius, -self.shape[2]/2, self.shape[2]/2).rvs(self.size) if self.is_2D==False else np.zeros(self.size)\n",
    "                                ], dtype=object)\n",
    "        else: \n",
    "            print(\"distribution must be \\\"uniform\\\" or \\\"gaussian\\\".\")\n",
    "            raise\n",
    "        return KDTree(positions.T)\n",
    "\n",
    "    def projector(self, a,b):\n",
    "        projector_ = np.zeros([2, 2])\n",
    "        projector_[a,b] = 1\n",
    "        return projector_\n",
    "\n",
    "    def sigma(self, pom, k):\n",
    "        if pom==0:\n",
    "            a=1\n",
    "            b=1\n",
    "        elif pom==-1:\n",
    "            a=0\n",
    "            b=1\n",
    "        elif pom==1:\n",
    "            a=1\n",
    "            b=0\n",
    "\n",
    "        if k == 0:\n",
    "            _sigma = np.kron(self.projector(a, b), np.eye(2**(self.size-1)))\n",
    "            return _sigma\n",
    "        elif k == self.size-1:\n",
    "            _sigma = np.kron(np.eye(2**(self.size-1)), self.projector(a, b))\n",
    "            return _sigma\n",
    "        _sigma = np.eye(2)\n",
    "        for kk in range(1, self.size):\n",
    "            if kk == k:\n",
    "                _sigma = np.kron(_sigma, self.projector(a, b))\n",
    "            else:\n",
    "                _sigma = np.kron(_sigma, np.eye(2))\n",
    "        return _sigma\n",
    "\n",
    "    def distance(self, i, j):   \n",
    "        return ((self.KDT.data[i,0] - self.KDT.data[j,0])**2 + (self.KDT.data[i,1] - self.KDT.data[j,1])**2 + (self.KDT.data[i,2] - self.KDT.data[j,2])**2)**(1/2)\n",
    "        \n",
    "    def gamma_k(self, k, v):\n",
    "        potential_term = 0\n",
    "        for g in range(self.size):\n",
    "            if g != k:\n",
    "                potential_term += (C6/self.distance(g,k)**6)*np.sum(np.dot(self.sigma(0, g), v))\n",
    "        rate = ((omega_rabi/2)**2)*dephasing/((dephasing/2)**2 + (-detuning+potential_term)**2)\n",
    "        return rate\n",
    "\n",
    "    def dot_v(self, t, v):\n",
    "        final_vector = np.zeros(2**self.size)\n",
    "        for k in range(self.size):\n",
    "            gam = self.gamma_k(k, v)\n",
    "            final_vector += gam * np.dot(self.sigma(+1, k) - (np.eye(2**self.size) - self.sigma(0, k)), v)\n",
    "            final_vector += (gam+gam_ry) * np.dot(self.sigma(-1, k) - self.sigma(0, k), v)\n",
    "        return final_vector\n",
    "    \n",
    "    def get_population_evo(self, ivp_sol):\n",
    "        populations = np.zeros(len(ivp_sol.t))\n",
    "        for t in range(len(ivp_sol.t)):\n",
    "            populations[t] = np.sum(np.dot(self.magnetization_vector_, ivp_sol.y[:,t]))/self.size\n",
    "        return populations\n",
    "\n",
    "    def evolve(self, time, steps, initial_state):\n",
    "        sol = solve_ivp(self.dot_v, [0,time], initial_state, t_eval=np.linspace(0, time, steps))\n",
    "        population_evo = self.get_population_evo(sol)\n",
    "        return np.linspace(0, time, steps), population_evo\n",
    "    \n",
    "    def show(self):\n",
    "        \"\"\"\n",
    "        shows the 3D cluster\n",
    "        \"\"\"\n",
    "        if self.is_2D == True:\n",
    "            self.show2D()\n",
    "            return\n",
    "        plt.figure(figsize=(15,12))\n",
    "        ax = plt.axes(projection =\"3d\")\n",
    "        ax.scatter(self.KDT.data[:,0],self.KDT.data[:,1],self.KDT.data[:,2], marker=\".\", c=\"b\",  alpha=1, s=10)\n",
    "        plt.show()\n",
    "        return\n",
    "    \n",
    "    def show2D(self):\n",
    "        plt.figure(figsize=(10,10))\n",
    "        ax = plt.gca()\n",
    "        ax.plot(self.KDT.data[:,0],self.KDT.data[:,1], linestyle=\"\", marker=\".\", c=\"b\",  alpha=1)\n",
    "        plt.show()\n",
    "        return\n",
    "    \n",
    "def magnetization_vector(size):\n",
    "    output = np.zeros(2**size)\n",
    "    for num in range(2**size):\n",
    "        output[num] = magnetization(num, size)\n",
    "    return output\n",
    "\n",
    "def magnetization(num, size):\n",
    "    mag = 0\n",
    "    for dividend in range(size):\n",
    "        if num == 0:\n",
    "            return mag\n",
    "        if num % 2 == 1:\n",
    "            mag += 1\n",
    "        num = num // 2\n",
    "    return mag\n"
   ]
  },
  {
   "cell_type": "code",
   "execution_count": 3,
   "metadata": {},
   "outputs": [],
   "source": [
    "N_atoms = 10\n",
    "omega_rabi = 0.2 # MHz\n",
    "dephasing = 8 # MHz\n",
    "detuning = 20 # MHz\n",
    "C6 = 870 * 10**3 # MHz*um^6\n",
    "gam_ry = 0.001\n",
    "shape = [4,4,4]"
   ]
  },
  {
   "cell_type": "code",
   "execution_count": 4,
   "metadata": {},
   "outputs": [
    {
     "name": "stdout",
     "output_type": "stream",
     "text": [
      "0\n"
     ]
    }
   ],
   "source": [
    "reps = 1\n",
    "time = 10\n",
    "evos_id = []\n",
    "evos = []\n",
    "for _ in range(reps):\n",
    "    clu_id = ideal_cluster3D(N_atoms, shape = shape)\n",
    "    clu = ryperc2.cluster3D(N_atoms, shape = shape)\n",
    "    vector = np.zeros(2**N_atoms)\n",
    "    vector[0] = 1\n",
    "    times_id, pop_evo_id = clu_id.evolve(time, 10, vector)\n",
    "    clu.set_evolution_parameters(\n",
    "        omega_rabi,\n",
    "        dephasing,\n",
    "        detuning,\n",
    "        C6,\n",
    "        gam_ry\n",
    "    )\n",
    "    pop_evo, __ = clu.evolve(time, 10000)\n",
    "    times = np.linspace(0,time,10000)\n",
    "    evos_id.append(pop_evo_id)\n",
    "    evos.append(pop_evo)\n",
    "    clear_output(wait=True)\n",
    "    print(_)\n",
    "\n",
    "mean_evos = np.mean(evos, axis=0)    \n",
    "mean_evos_id = np.mean(evos_id, axis=0)    "
   ]
  },
  {
   "cell_type": "code",
   "execution_count": 5,
   "metadata": {},
   "outputs": [
    {
     "data": {
      "image/png": "[encoded data removed]",
      "text/plain": [
       "<Figure size 640x480 with 1 Axes>"
      ]
     },
     "metadata": {},
     "output_type": "display_data"
    }
   ],
   "source": [
    "plt.plot(times, mean_evos)\n",
    "plt.plot(times_id, mean_evos_id)\n",
    "plt.show()"
   ]
  },
  {
   "cell_type": "code",
   "execution_count": 6,
   "metadata": {},
   "outputs": [
    {
     "data": {
      "image/png": "[encoded data removed]",
      "text/plain": [
       "<Figure size 1000x1000 with 1 Axes>"
      ]
     },
     "metadata": {},
     "output_type": "display_data"
    }
   ],
   "source": [
    "clu.show2D()"
   ]
  },
  {
   "cell_type": "code",
   "execution_count": 7,
   "metadata": {},
   "outputs": [
    {
     "data": {
      "text/plain": [
       "1024"
      ]
     },
     "execution_count": 7,
     "metadata": {},
     "output_type": "execute_result"
    }
   ],
   "source": [
    "2**10"
   ]
  },
  {
   "cell_type": "code",
   "execution_count": null,
   "metadata": {},
   "outputs": [],
   "source": []
  }
 ],
 "metadata": {
  "kernelspec": {
   "display_name": "Python 3",
   "language": "python",
   "name": "python3"
  },
  "language_info": {
   "codemirror_mode": {
    "name": "ipython",
    "version": 3
   },
   "file_extension": ".py",
   "mimetype": "text/x-python",
   "name": "python",
   "nbconvert_exporter": "python",
   "pygments_lexer": "ipython3",
   "version": "3.10.2"
  },
  "orig_nbformat": 4,
  "vscode": {
   "interpreter": {
    "hash": "aee8b7b246df8f9039afb4144a1f6fd8d2ca17a180786b69acc140d282b71a49"
   }
  }
 },
 "nbformat": 4,
 "nbformat_minor": 2
}
