{
 "cells": [
  {
   "cell_type": "code",
   "execution_count": 1,
   "metadata": {},
   "outputs": [],
   "source": [
    "import matplotlib.pyplot as plt\n",
    "from IPython.display import clear_output\n",
    "from matplotlib.animation import FuncAnimation, ArtistAnimation\n",
    "from scipy.constants import hbar\n",
    "#from rydbperc.cython_utilities import util\n",
    "from rydbperc import ryperc\n",
    "from rydbperc import twoatoms\n",
    "import numpy as np"
   ]
  },
  {
   "cell_type": "code",
   "execution_count": 2,
   "metadata": {},
   "outputs": [
    {
     "name": "stdout",
     "output_type": "stream",
     "text": [
      "simulation parameters:\n",
      "detuning from Rydberg = 40.0 \n",
      "facilitation shell radius and delta = 5.3 +- 0.0 \n",
      "number of steps = 1500 \n",
      "probabiliy spontaneous excitation = 0.0058 \n",
      "probabiliy spontaneous emission = 0.0027 \n",
      "probabiliy facilitated excitation = 1.0000 \n",
      "mean density = 3.8\n",
      "\n"
     ]
    }
   ],
   "source": [
    "text = \"simulation parameters:\\n\"\n",
    "\n",
    "N_points = 3000\n",
    "\n",
    "Delta = 40 # detuning [MHz]\n",
    "\n",
    "text += \"detuning from Rydberg = %.1f \\n\"%Delta\n",
    "\n",
    "C6 = 0.870 *10**6\n",
    "gamma_def = 4.4 # [MHz]\n",
    "radius_shell = (C6/(Delta))**(1/6)\n",
    "delta_radius_shell = radius_shell*(gamma_def/(6*Delta))\n",
    "\n",
    "text += \"facilitation shell radius and delta = %.1f +- %.1f \\n\" %(radius_shell,delta_radius_shell/2)\n",
    "\n",
    "dt = 1 # [us]\n",
    "evo_time = 1500 # [us]\n",
    "N_steps = int(evo_time/dt)\n",
    "\n",
    "text += \"number of steps = %d \\n\"%N_steps\n",
    "\n",
    "power_blue = 1.5e-3\n",
    "waste_blue = 40e-6\n",
    "power_IR = 40e-3\n",
    "waste_IR = 100e-6\n",
    "detuning_blue = 1000\n",
    "detuning_IR = Delta\n",
    "\n",
    "atom = twoatoms.single_atom(power_blue, waste_blue, power_IR, waste_IR, detuning_blue, detuning_IR=detuning_IR)#, power_depumping=10e-3, waste_depumping=100e-6)\n",
    "rho0 = np.zeros([4,4])\n",
    "rho0[0,0] = 1\n",
    "steps = 10000\n",
    "time = dt\n",
    "atom.evolve(time, steps, rho0)\n",
    "\n",
    "\n",
    "p_spont_exc = atom.get_excitation_probability()\n",
    "p_spont_emi = atom.Gamma_70s * dt\n",
    "p_facilitation = 1\n",
    "\n",
    "text += \"probabiliy spontaneous excitation = %.4f \\n\"%(p_spont_exc*N_steps)\n",
    "text += \"probabiliy spontaneous emission = %.4f \\n\"%p_spont_emi\n",
    "text += \"probabiliy facilitated excitation = %.4f \\n\"%p_facilitation\n",
    "\n",
    "shape = [40,40,50] # shape MOT in microns\n",
    "density = N_points/(shape[0]*shape[1]*shape[2]*10**-2) # atoms/cm^3\n",
    "\n",
    "text += \"mean density = %.1f\\n\"%density\n",
    "print(text)"
   ]
  },
  {
   "cell_type": "code",
   "execution_count": 9,
   "metadata": {},
   "outputs": [],
   "source": [
    "def experiment():\n",
    "    excs = []\n",
    "    repetitions = 50\n",
    "    for _ in range(repetitions):\n",
    "        clu = ryperc.cluster3D(N_points, shape, distribution=\"uniform\")\n",
    "\n",
    "        clu.set_evolution_parameters(\n",
    "                                    shell_radius=radius_shell, \n",
    "                                    shell_delta=delta_radius_shell, \n",
    "                                    p_spont_exct=p_spont_exc, \n",
    "                                    p_emission=p_spont_emi, \n",
    "                                    p_fac=p_facilitation\n",
    "                                    )\n",
    "\n",
    "        excs.append(clu.evolve(N_steps))\n",
    "    return np.mean(excs, axis=0)"
   ]
  },
  {
   "cell_type": "code",
   "execution_count": 4,
   "metadata": {},
   "outputs": [
    {
     "name": "stdout",
     "output_type": "stream",
     "text": [
      "500\n",
      "1000\n",
      "1500\n",
      "2000\n",
      "2500\n",
      "3000\n",
      "3500\n",
      "4000\n",
      "4500\n",
      "5000\n",
      "5500\n"
     ]
    }
   ],
   "source": [
    "res = []\n",
    "for N_points in np.arange(500, 6000, step=500):\n",
    "    print(N_points)\n",
    "    res.append(experiment()[-1])"
   ]
  },
  {
   "cell_type": "code",
   "execution_count": 5,
   "metadata": {},
   "outputs": [
    {
     "data": {
      "image/png": "[encoded data removed]",
      "text/plain": [
       "<Figure size 432x288 with 1 Axes>"
      ]
     },
     "metadata": {
      "needs_background": "light"
     },
     "output_type": "display_data"
    }
   ],
   "source": [
    "plt.plot(res)\n",
    "plt.show()"
   ]
  },
  {
   "cell_type": "code",
   "execution_count": 10,
   "metadata": {},
   "outputs": [
    {
     "data": {
      "image/png": "[encoded data removed]",
      "text/plain": [
       "<Figure size 432x288 with 1 Axes>"
      ]
     },
     "metadata": {
      "needs_background": "light"
     },
     "output_type": "display_data"
    }
   ],
   "source": [
    "N_points = 3000\n",
    "times = np.linspace(0, evo_time, N_steps)\n",
    "#for rep in range(repetitions):\n",
    "excs = experiment()\n",
    "plt.plot(times, excs, linestyle=\"\", marker=\"o\", color=\"blue\")\n",
    "plt.show()"
   ]
  },
  {
   "cell_type": "code",
   "execution_count": null,
   "metadata": {},
   "outputs": [],
   "source": []
  }
 ],
 "metadata": {
  "kernelspec": {
   "display_name": "Python 3.10.2 64-bit",
   "language": "python",
   "name": "python3"
  },
  "language_info": {
   "codemirror_mode": {
    "name": "ipython",
    "version": 3
   },
   "file_extension": ".py",
   "mimetype": "text/x-python",
   "name": "python",
   "nbconvert_exporter": "python",
   "pygments_lexer": "ipython3",
   "version": "3.10.2"
  },
  "orig_nbformat": 4,
  "vscode": {
   "interpreter": {
    "hash": "aee8b7b246df8f9039afb4144a1f6fd8d2ca17a180786b69acc140d282b71a49"
   }
  }
 },
 "nbformat": 4,
 "nbformat_minor": 2
}
