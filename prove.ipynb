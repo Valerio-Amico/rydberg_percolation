{
 "cells": [
  {
   "cell_type": "code",
   "execution_count": 1,
   "metadata": {},
   "outputs": [],
   "source": [
    "import matplotlib.pyplot as plt\n",
    "from IPython.display import clear_output\n",
    "from matplotlib.animation import FuncAnimation, ArtistAnimation\n",
    "from scipy.constants import hbar\n",
    "#from rydbperc.cython_utilities import util\n",
    "from rydbperc import ryperc\n",
    "from rydbperc import twoatoms\n",
    "import numpy as np"
   ]
  },
  {
   "cell_type": "code",
   "execution_count": 23,
   "metadata": {},
   "outputs": [
    {
     "name": "stdout",
     "output_type": "stream",
     "text": [
      "simulation parameters:\n",
      "detuning from Rydberg = 25.0 \n",
      "facilitation shell radius and delta = 5.7 +- 0.0838 \n",
      "blokade radius = 11.9 um\n",
      "number of steps = 1500 \n",
      "probabiliy of one atom in one step of:\n",
      " . spontaneous excitation  = 0.0824 \n",
      " . spontaneous emission = 0.0027 \n",
      " . facilitated excitation = 0.0000 \n",
      "mean density = 1.0\n",
      "\n"
     ]
    }
   ],
   "source": [
    "text = \"simulation parameters:\\n\"\n",
    "\n",
    "N_points = 5000\n",
    "\n",
    "Delta = 25 # detuning [MHz]\n",
    "\n",
    "text += \"detuning from Rydberg = %.1f \\n\"%Delta\n",
    "\n",
    "C6 = 0.870 *10**6\n",
    "gamma_def = 4.4 # [MHz]\n",
    "radius_shell = (C6/(Delta))**(1/6)\n",
    "delta_radius_shell = radius_shell*(gamma_def/(6*Delta))\n",
    "\n",
    "text += \"facilitation shell radius and delta = %.1f +- %.4f \\n\" %(radius_shell,delta_radius_shell/2)\n",
    "\n",
    "dt = 1 # [us]\n",
    "evo_time = 1500 # [us]\n",
    "N_steps = int(evo_time/dt)\n",
    "\n",
    "power_blue = 1.5e-3\n",
    "waste_blue = 40e-6\n",
    "power_IR = 40e-3\n",
    "waste_IR = 100e-6\n",
    "detuning_blue = 400\n",
    "detuning_IR = Delta\n",
    "\n",
    "atom = twoatoms.single_atom(power_blue, waste_blue, power_IR, waste_IR, detuning_blue, detuning_IR=detuning_IR)#, power_depumping=10e-3, waste_depumping=100e-6)\n",
    "rho0 = np.zeros([4,4])\n",
    "rho0[0,0] = 1\n",
    "steps = 10000\n",
    "time = dt\n",
    "atom.evolve(time, steps, rho0)\n",
    "\n",
    "radius_blokade = atom.radius_blokade\n",
    "text += \"blokade radius = %.1f um\\n\" %(atom.radius_blokade)\n",
    "text += \"number of steps = %d \\n\"%N_steps\n",
    "\n",
    "p_spont_exc = atom.get_excitation_probability()\n",
    "p_spont_emi = atom.Gamma_70s * dt\n",
    "p_facilitation = 0\n",
    "\n",
    "text += \"probabiliy of one atom in one step of:\\n\"\n",
    "text += \" . spontaneous excitation  = %.4f \\n\"%(p_spont_exc*N_steps)\n",
    "text += \" . spontaneous emission = %.4f \\n\"%p_spont_emi\n",
    "text += \" . facilitated excitation = %.4f \\n\"%p_facilitation\n",
    "\n",
    "shape = [80,80,80] # shape MOT in microns\n",
    "density = N_points/(shape[0]*shape[1]*shape[2]*10**-2) # atoms/cm^3\n",
    "\n",
    "text += \"mean density = %.1f 10^10\\n\"%density\n",
    "print(text)"
   ]
  },
  {
   "cell_type": "code",
   "execution_count": 27,
   "metadata": {},
   "outputs": [],
   "source": [
    "# this experiment just repeats \"repetitions\" times the same experiment, and return a list of results.\n",
    "def experiment():\n",
    "    excs = []\n",
    "    repetitions = 10\n",
    "    for _ in range(repetitions):\n",
    "        clear_output(wait=True)\n",
    "        print(_)\n",
    "        clu = ryperc.cluster3D(N_points, shape, distribution=\"uniform\")\n",
    "\n",
    "        clu.set_evolution_parameters(\n",
    "                                    shell_radius=radius_shell, \n",
    "                                    shell_delta=delta_radius_shell, \n",
    "                                    blokade_radius=radius_blokade,\n",
    "                                    p_spont_exct=p_spont_exc, \n",
    "                                    p_emission=p_spont_emi, \n",
    "                                    p_fac=p_facilitation\n",
    "                                    )\n",
    "\n",
    "        excs.append(clu.evolve(N_steps))\n",
    "    return np.mean(excs, axis=0)"
   ]
  },
  {
   "cell_type": "code",
   "execution_count": 28,
   "metadata": {},
   "outputs": [
    {
     "name": "stdout",
     "output_type": "stream",
     "text": [
      "9\n"
     ]
    }
   ],
   "source": [
    "res = []\n",
    "for N_points in np.arange(500, 6000, step=500):\n",
    "    print(N_points)\n",
    "    res.append(experiment()[-1])"
   ]
  },
  {
   "cell_type": "code",
   "execution_count": 29,
   "metadata": {},
   "outputs": [
    {
     "data": {
      "image/png": "[encoded data removed]",
      "text/plain": [
       "<Figure size 432x288 with 1 Axes>"
      ]
     },
     "metadata": {
      "needs_background": "light"
     },
     "output_type": "display_data"
    }
   ],
   "source": [
    "plt.plot(res, \"o\")\n",
    "plt.show()"
   ]
  },
  {
   "cell_type": "code",
   "execution_count": 30,
   "metadata": {},
   "outputs": [
    {
     "name": "stdout",
     "output_type": "stream",
     "text": [
      "9\n"
     ]
    },
    {
     "data": {
      "image/png": "[encoded data removed]",
      "text/plain": [
       "<Figure size 432x288 with 1 Axes>"
      ]
     },
     "metadata": {
      "needs_background": "light"
     },
     "output_type": "display_data"
    }
   ],
   "source": [
    "N_points = 5000\n",
    "times = np.linspace(0, evo_time, N_steps)\n",
    "#for rep in range(repetitions):\n",
    "excs = experiment()\n",
    "plt.plot(times, excs, linestyle=\"\", marker=\"o\", color=\"blue\")\n",
    "plt.show()"
   ]
  },
  {
   "cell_type": "code",
   "execution_count": 31,
   "metadata": {},
   "outputs": [
    {
     "name": "stdout",
     "output_type": "stream",
     "text": [
      "9\n"
     ]
    },
    {
     "data": {
      "image/png": "[encoded data removed]",
      "text/plain": [
       "<Figure size 432x288 with 1 Axes>"
      ]
     },
     "metadata": {
      "needs_background": "light"
     },
     "output_type": "display_data"
    }
   ],
   "source": [
    "# testing the blokade\n",
    "N_points = 10000\n",
    "times = np.linspace(0, evo_time, N_steps)\n",
    "#for rep in range(repetitions):\n",
    "excs = experiment()\n",
    "plt.plot(times, excs, linestyle=\"\", marker=\"o\", color=\"blue\")\n",
    "plt.show()"
   ]
  },
  {
   "cell_type": "code",
   "execution_count": 33,
   "metadata": {},
   "outputs": [
    {
     "name": "stdout",
     "output_type": "stream",
     "text": [
      "9\n"
     ]
    }
   ],
   "source": [
    "detunings = np.linspace(0.01, 80, 10)\n",
    "N_points = 5000\n",
    "evo_time = 100\n",
    "res = []\n",
    "for detuning_IR in detunings:\n",
    "    print(detuning_IR)\n",
    "    res.append(experiment()[-1])"
   ]
  },
  {
   "cell_type": "code",
   "execution_count": 34,
   "metadata": {},
   "outputs": [
    {
     "data": {
      "image/png": "[encoded data removed]",
      "text/plain": [
       "<Figure size 432x288 with 1 Axes>"
      ]
     },
     "metadata": {
      "needs_background": "light"
     },
     "output_type": "display_data"
    }
   ],
   "source": [
    "plt.plot(res, \"o\")\n",
    "plt.show()"
   ]
  },
  {
   "cell_type": "code",
   "execution_count": null,
   "metadata": {},
   "outputs": [],
   "source": []
  }
 ],
 "metadata": {
  "kernelspec": {
   "display_name": "Python 3.10.2 64-bit",
   "language": "python",
   "name": "python3"
  },
  "language_info": {
   "codemirror_mode": {
    "name": "ipython",
    "version": 3
   },
   "file_extension": ".py",
   "mimetype": "text/x-python",
   "name": "python",
   "nbconvert_exporter": "python",
   "pygments_lexer": "ipython3",
   "version": "3.10.2 (v3.10.2:a58ebcc701, Jan 13 2022, 14:50:16) [Clang 13.0.0 (clang-1300.0.29.30)]"
  },
  "orig_nbformat": 4,
  "vscode": {
   "interpreter": {
    "hash": "aee8b7b246df8f9039afb4144a1f6fd8d2ca17a180786b69acc140d282b71a49"
   }
  }
 },
 "nbformat": 4,
 "nbformat_minor": 2
}
