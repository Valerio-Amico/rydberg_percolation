{
 "cells": [
  {
   "cell_type": "code",
   "execution_count": 1,
   "metadata": {},
   "outputs": [],
   "source": [
    "import matplotlib.pyplot as plt\n",
    "from IPython.display import clear_output\n",
    "from matplotlib.animation import FuncAnimation, ArtistAnimation\n",
    "#from rydbperc.cython_utilities import util\n",
    "from rydbperc import ryperc\n",
    "import numpy as np"
   ]
  },
  {
   "cell_type": "code",
   "execution_count": 24,
   "metadata": {},
   "outputs": [
    {
     "name": "stdout",
     "output_type": "stream",
     "text": [
      "simulation parameters:\n",
      "detuning from Rydberg = 20.0 \n",
      "facilitation shell radius and delta = 6.1 +- 0.1 \n",
      "number of steps = 1000 \n",
      "probabiliy spontaneous excitation = 0.0002 \n",
      "probabiliy spontaneous emission = 0.0000 \n",
      "probabiliy facilitated excitation = 0.0000 \n",
      "mean density = 1.6\n",
      "\n",
      "2.02 2.2796\n"
     ]
    }
   ],
   "source": [
    "text = \"simulation parameters:\\n\"\n",
    "\n",
    "N_points = 10000\n",
    "radius_MOT = 20\n",
    "\n",
    "C6 = 1*10**6 # van der waals coefficient [MHz * um^6]\n",
    "gamma_def = 4 # dephasing rate [MHz]\n",
    "Delta = 20 # detuning [MHz]\n",
    "gamma_spontaneous_emission_70s = 0 #0.01 # [MHz]\n",
    "\n",
    "text += \"detuning from Rydberg = %.1f \\n\"%Delta\n",
    "\n",
    "radius_shell = (C6/(Delta))**(1/6)\n",
    "delta_radius_shell = radius_shell*(gamma_def/(6*Delta))\n",
    "\n",
    "text += \"facilitation shell radius and delta = %.1f +- %.1f \\n\" %(radius_shell,delta_radius_shell/2)\n",
    "\n",
    "dt = 0.1 # [us]\n",
    "evo_time = 100 # [us]\n",
    "N_steps = int(evo_time/dt)\n",
    "\n",
    "text += \"number of steps = %d \\n\"%N_steps\n",
    "\n",
    "p_spont_exc = 2/(N_points * N_steps)\n",
    "p_spont_emi = gamma_spontaneous_emission_70s * dt\n",
    "p_facilitation = 0.1\n",
    "\n",
    "text += \"probabiliy spontaneous excitation = %.4f \\n\"%(p_spont_exc*N_steps)\n",
    "text += \"probabiliy spontaneous emission = %.4f \\n\"%p_spont_emi\n",
    "text += \"probabiliy facilitated excitation = %.4f \\n\"%p_facilitation\n",
    "\n",
    "shape = [80,80,100]\n",
    "density = N_points/(shape[0]*shape[1]*shape[2]*10**-2) # atoms/cm^3\n",
    "\n",
    "text += \"mean density = %.1f\\n\"%density\n",
    "print(text)\n",
    "\n",
    "excs = []\n",
    "\n",
    "for _ in range(100):\n",
    "    clu = ryperc.cluster3D(N_points, shape, distribution=\"uniform\")\n",
    "\n",
    "    clu.set_evolution_parameters(\n",
    "                                shell_radius=radius_shell, \n",
    "                                shell_delta=delta_radius_shell, \n",
    "                                p_spont_exct=p_spont_exc, \n",
    "                                p_emission=p_spont_emi, \n",
    "                                p_fac=p_facilitation\n",
    "                                )\n",
    "\n",
    "    clu.evolve(N_steps)\n",
    "    excs.append(len(clu.cluster_excited))\n",
    "print(np.mean(excs),np.std(excs)**2)\n"
   ]
  },
  {
   "cell_type": "code",
   "execution_count": null,
   "metadata": {},
   "outputs": [],
   "source": []
  }
 ],
 "metadata": {
  "kernelspec": {
   "display_name": "Python 3.10.2 64-bit",
   "language": "python",
   "name": "python3"
  },
  "language_info": {
   "codemirror_mode": {
    "name": "ipython",
    "version": 3
   },
   "file_extension": ".py",
   "mimetype": "text/x-python",
   "name": "python",
   "nbconvert_exporter": "python",
   "pygments_lexer": "ipython3",
   "version": "3.10.2"
  },
  "orig_nbformat": 4,
  "vscode": {
   "interpreter": {
    "hash": "aee8b7b246df8f9039afb4144a1f6fd8d2ca17a180786b69acc140d282b71a49"
   }
  }
 },
 "nbformat": 4,
 "nbformat_minor": 2
}
