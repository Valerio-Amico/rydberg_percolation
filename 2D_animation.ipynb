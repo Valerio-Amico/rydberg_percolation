{
 "cells": [
  {
   "cell_type": "code",
   "execution_count": 5,
   "metadata": {},
   "outputs": [],
   "source": [
    "%matplotlib Tk\n",
    "import numpy as np\n",
    "from sympy import Matrix\n",
    "import matplotlib.pyplot as plt\n",
    "from IPython.display import clear_output\n",
    "from matplotlib.animation import FuncAnimation, ArtistAnimation\n",
    "from matplotlib.transforms import Bbox\n",
    "from rydbperc import ryperc"
   ]
  },
  {
   "cell_type": "code",
   "execution_count": 6,
   "metadata": {},
   "outputs": [],
   "source": [
    "N_atoms = 5000"
   ]
  },
  {
   "cell_type": "code",
   "execution_count": 7,
   "metadata": {},
   "outputs": [],
   "source": [
    "cloud = ryperc.cluster3D(size=N_atoms, is_2D=True)\n",
    "cloud.set_evolution_parameters(\n",
    "    shell_radius=0.07,\n",
    "    shell_delta=0.01,\n",
    "    blokade_radius=0.2,\n",
    "    p_spont_exct=0.1/N_atoms,\n",
    "    p_emission=0.1,\n",
    "    p_fac=0.005\n",
    ")"
   ]
  },
  {
   "cell_type": "code",
   "execution_count": 8,
   "metadata": {},
   "outputs": [],
   "source": [
    "N_steps = 500\n",
    "excitations = []\n",
    "ims1 = []\n",
    "size = (10,10)\n",
    "\n",
    "fig1 = plt.figure(figsize=size)\n",
    "\n",
    "for step in range(N_steps):\n",
    "    cloud.evolution_step()\n",
    "    excitations.append(len(cloud.cluster_excited))\n",
    "\n",
    "    ims1_ = cloud.show2D(return_=True)\n",
    "    ims1.append(ims1_)\n",
    "\n",
    "    #plt.clf()\n",
    "\n",
    "    #ax2 = plt.subplot(1,1,1)\n",
    "    #ax2.set_position([0.3,0.55,0.4,0.1])\n",
    "\n",
    "    #fig.subplots_adjust(hspace=0.5)\n",
    "    #ims2_ = []\n",
    "    #if len(excitations)>100:\n",
    "    #    ims2_ += ax2.plot(excitations[-100:-1], c=\"red\")\n",
    "    #else:\n",
    "    #    ims2_ += ax2.plot(excitations, c=\"red\")\n",
    "\n",
    "    #ims2.append(ims2_)\n",
    "\n",
    "ani1 = ArtistAnimation(fig1, ims1, interval=10, blit=True, repeat_delay=10)\n",
    "\n",
    "#ani1.save('absorbing_phase_2d_.mp4')\n",
    "\n",
    "plt.cla()\n",
    "plt.clf()\n",
    "plt.figure(figsize=(8,4))\n",
    "plt.plot(excitations, c=\"red\")\n",
    "plt.show()"
   ]
  },
  {
   "cell_type": "code",
   "execution_count": null,
   "metadata": {},
   "outputs": [],
   "source": []
  }
 ],
 "metadata": {
  "kernelspec": {
   "display_name": "Python 3",
   "language": "python",
   "name": "python3"
  },
  "language_info": {
   "codemirror_mode": {
    "name": "ipython",
    "version": 3
   },
   "file_extension": ".py",
   "mimetype": "text/x-python",
   "name": "python",
   "nbconvert_exporter": "python",
   "pygments_lexer": "ipython3",
   "version": "3.10.2"
  },
  "orig_nbformat": 4
 },
 "nbformat": 4,
 "nbformat_minor": 2
}
