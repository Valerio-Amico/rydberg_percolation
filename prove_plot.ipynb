{
 "cells": [
  {
   "cell_type": "code",
   "execution_count": 2,
   "metadata": {},
   "outputs": [],
   "source": [
    "%matplotlib Tk\n",
    "import numpy as np\n",
    "from sympy import Matrix\n",
    "import matplotlib.pyplot as plt\n",
    "from IPython.display import clear_output\n",
    "from matplotlib.animation import FuncAnimation, ArtistAnimation\n",
    "from rydbperc import ryperc"
   ]
  },
  {
   "cell_type": "code",
   "execution_count": 27,
   "metadata": {},
   "outputs": [],
   "source": [
    "N_steps = 50\n",
    "size = (8, 6)\n",
    "\n",
    "fig = plt.figure(figsize=size)\n",
    "ims = []\n",
    "\n",
    "for step in range(N_steps):\n",
    "    ims_ = []\n",
    "    x = np.linspace(0, 2*np.pi, 100)\n",
    "    y = np.sin(x + 2*np.pi*step/N_steps)\n",
    "    ax = plt.gca()\n",
    "    ims_ = ims_ + ax.plot(x, y)\n",
    "    ims_ += ax.plot(x, -y)\n",
    "\n",
    "    ims.append(ims_)\n",
    "\n",
    "ani = ArtistAnimation(fig, ims, interval=100, blit=True, repeat_delay=100)\n",
    "#plt.show()"
   ]
  },
  {
   "cell_type": "code",
   "execution_count": 19,
   "metadata": {},
   "outputs": [],
   "source": [
    "import numpy as np\n",
    "import matplotlib.pyplot as plt\n",
    "from matplotlib.animation import ArtistAnimation\n",
    "\n",
    "N_steps = 50\n",
    "size = (8, 6)\n",
    "\n",
    "fig = plt.figure(figsize=size)\n",
    "ims = []\n",
    "\n",
    "for step in range(N_steps):\n",
    "    ax = fig.add_subplot(1, 1, 1)\n",
    "    x = np.linspace(0, 2*np.pi, 100)\n",
    "    y = np.sin(x + 2*np.pi*step/N_steps)\n",
    "    im = ax.plot(x, y)\n",
    "    ims.append([im[0]])\n",
    "\n",
    "ani = ArtistAnimation(fig, ims, interval=100, blit=True, repeat_delay=100)\n",
    "plt.show()\n"
   ]
  },
  {
   "cell_type": "code",
   "execution_count": 18,
   "metadata": {},
   "outputs": [
    {
     "data": {
      "text/plain": [
       "<matplotlib.lines.Line2D at 0x296c660e0>"
      ]
     },
     "execution_count": 18,
     "metadata": {},
     "output_type": "execute_result"
    }
   ],
   "source": [
    "fig = plt.figure(figsize=size)\n",
    "ax = fig.add_subplot(1, 1, 1)\n",
    "x = np.linspace(0, 2*np.pi, 100)\n",
    "y = np.sin(x + 2*np.pi*step/N_steps)\n",
    "im = ax.plot(x, y)\n",
    "im[0]"
   ]
  },
  {
   "cell_type": "code",
   "execution_count": 29,
   "metadata": {},
   "outputs": [
    {
     "ename": "",
     "evalue": "",
     "output_type": "error",
     "traceback": [
      "\u001b[1;31mThe Kernel crashed while executing code in the the current cell or a previous cell. Please review the code in the cell(s) to identify a possible cause of the failure. Click <a href='https://aka.ms/vscodeJupyterKernelCrash'>here</a> for more info. View Jupyter <a href='command:jupyter.viewOutput'>log</a> for further details."
     ]
    }
   ],
   "source": [
    "import matplotlib.pyplot as plt\n",
    "from matplotlib.animation import FuncAnimation\n",
    "import numpy as np\n",
    "\n",
    "# Creazione dei dati per i grafici\n",
    "x = np.linspace(0, 2*np.pi, 100)\n",
    "y1 = np.sin(x)\n",
    "y2 = np.cos(x)\n",
    "\n",
    "# Creazione dei due subplot\n",
    "fig, (ax1, ax2) = plt.subplots(1, 2)\n",
    "\n",
    "# Creazione dei line plot per il primo subplot\n",
    "line1, = ax1.plot(x, y1, color='blue')\n",
    "\n",
    "# Creazione dei scatter plot per il secondo subplot\n",
    "scatter2 = ax2.scatter(x, y2, color='red')\n",
    "\n",
    "# Funzione di animazione che aggiorna i due grafici ad ogni iterazione\n",
    "def animate(i):\n",
    "    # Aggiornamento del line plot\n",
    "    line1.set_ydata(np.sin(x + i/10.0))\n",
    "    \n",
    "    # Aggiornamento del scatter plot\n",
    "    new_y2 = np.cos(x + i/10.0)\n",
    "    for i, artist in enumerate(scatter2.get_children()):\n",
    "        artist.set_ydata(new_y2[i::scatter2.get_offsets().shape[0]])\n",
    "    \n",
    "    return line1, scatter2\n",
    "\n",
    "# Creazione dell'oggetto di animazione\n",
    "anim = FuncAnimation(fig, animate, frames=100, interval=50)\n",
    "\n",
    "# Visualizzazione dell'animazione\n",
    "plt.show()"
   ]
  },
  {
   "cell_type": "code",
   "execution_count": null,
   "metadata": {},
   "outputs": [],
   "source": []
  }
 ],
 "metadata": {
  "kernelspec": {
   "display_name": "Python 3",
   "language": "python",
   "name": "python3"
  },
  "language_info": {
   "codemirror_mode": {
    "name": "ipython",
    "version": 3
   },
   "file_extension": ".py",
   "mimetype": "text/x-python",
   "name": "python",
   "nbconvert_exporter": "python",
   "pygments_lexer": "ipython3",
   "version": "3.10.2"
  },
  "orig_nbformat": 4
 },
 "nbformat": 4,
 "nbformat_minor": 2
}
