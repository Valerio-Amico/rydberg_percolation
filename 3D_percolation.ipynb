{
 "cells": [
  {
   "cell_type": "code",
   "execution_count": 30,
   "metadata": {},
   "outputs": [],
   "source": [
    "%matplotlib Tk\n",
    "\n",
    "import matplotlib.pyplot as plt\n",
    "from IPython.display import clear_output\n",
    "from matplotlib.animation import FuncAnimation, ArtistAnimation\n",
    "#from rydbperc.cython_utilities import util\n",
    "from rydbperc import ryperc\n",
    "import numpy as np"
   ]
  },
  {
   "cell_type": "code",
   "execution_count": 39,
   "metadata": {},
   "outputs": [
    {
     "name": "stdout",
     "output_type": "stream",
     "text": [
      "density =  0.78125\n",
      "63\n"
     ]
    }
   ],
   "source": [
    "N_points = 5000\n",
    "radius_MOT = 20\n",
    "radius_shell = 6\n",
    "delta_radius_shell = 0.6\n",
    "p_spont_exc = 0.00001\n",
    "p_spont_emi = 0.5\n",
    "p_facilitation = 0.8\n",
    "\n",
    "shape = [80,80,100]\n",
    "density = N_points/(shape[0]*shape[1]*shape[2]*10**-2) # atoms/cm^3\n",
    "\n",
    "print(\"density = \",density)\n",
    "clu = ryperc.cluster3D(N_points, shape, distribution=\"gaussian\", MOT_radius=radius_MOT, is_2D=True)\n",
    "\n",
    "clu.set_evolution_parameters(\n",
    "                            shell_radius=radius_shell, \n",
    "                            shell_delta=delta_radius_shell, \n",
    "                            p_spont_exct=p_spont_exc, \n",
    "                            p_emission=p_spont_emi, \n",
    "                            p_fac=p_facilitation\n",
    "                            )\n",
    "\n",
    "clu.evolve(1000)\n",
    "print(len(clu.cluster_excited))\n",
    "clu.show()"
   ]
  },
  {
   "cell_type": "code",
   "execution_count": 36,
   "metadata": {},
   "outputs": [
    {
     "name": "stdout",
     "output_type": "stream",
     "text": [
      "status: 10 %\n",
      "status: 20 %\n",
      "status: 30 %\n",
      "status: 40 %\n",
      "status: 50 %\n",
      "status: 60 %\n",
      "status: 70 %\n",
      "status: 80 %\n",
      "status: 90 %\n",
      "status: 100 %\n"
     ]
    }
   ],
   "source": [
    "p_facilitation_range = np.linspace(0,1,10)\n",
    "just_repetitions = 5\n",
    "N_steps = 500\n",
    "N_exct = []\n",
    "\n",
    "for i, p_facilitation in enumerate(p_facilitation_range):\n",
    "    reps = []\n",
    "    for _ in range(just_repetitions):\n",
    "        clu = ryperc.cluster3D(N_points, shape, distribution=\"gaussian\", MOT_radius=radius_MOT)\n",
    "\n",
    "        clu.set_evolution_parameters(\n",
    "                                    shell_radius=radius_shell, \n",
    "                                    shell_delta=delta_radius_shell, \n",
    "                                    p_spont_exct=p_spont_exc, \n",
    "                                    p_emission=p_spont_emi, \n",
    "                                    p_fac=p_facilitation\n",
    "                                    )\n",
    "\n",
    "        clu.evolve(steps=N_steps)\n",
    "        reps.append(len(clu.cluster_excited))\n",
    "        \n",
    "    print(\"status: %d %%\"%((i+1)/len(p_facilitation_range)*100))\n",
    "    N_exct.append(np.mean(reps))\n",
    "\n",
    "plt.plot(p_facilitation_range, N_exct, \".\")\n",
    "plt.show()\n"
   ]
  },
  {
   "cell_type": "code",
   "execution_count": null,
   "metadata": {},
   "outputs": [],
   "source": []
  }
 ],
 "metadata": {
  "kernelspec": {
   "display_name": "Python 3.10.2 64-bit",
   "language": "python",
   "name": "python3"
  },
  "language_info": {
   "codemirror_mode": {
    "name": "ipython",
    "version": 3
   },
   "file_extension": ".py",
   "mimetype": "text/x-python",
   "name": "python",
   "nbconvert_exporter": "python",
   "pygments_lexer": "ipython3",
   "version": "3.10.2"
  },
  "orig_nbformat": 4,
  "vscode": {
   "interpreter": {
    "hash": "aee8b7b246df8f9039afb4144a1f6fd8d2ca17a180786b69acc140d282b71a49"
   }
  }
 },
 "nbformat": 4,
 "nbformat_minor": 2
}
