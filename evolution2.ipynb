{
 "cells": [
  {
   "cell_type": "code",
   "execution_count": 23,
   "metadata": {},
   "outputs": [],
   "source": [
    "from rydbperc2 import ryperc2\n",
    "import matplotlib.pyplot as plt\n",
    "import numpy as np\n",
    "from IPython.display import clear_output"
   ]
  },
  {
   "cell_type": "code",
   "execution_count": 24,
   "metadata": {},
   "outputs": [],
   "source": [
    "N_atoms = 10\n",
    "two_ph_rabi_frequency = 0.2 # MHz\n",
    "dephasing = 8 # MHz\n",
    "detuning = 1 # MHz\n",
    "C6 = 870 * 10**3 # MHz*um^6\n",
    "gamma_ry = 0.001"
   ]
  },
  {
   "cell_type": "code",
   "execution_count": 25,
   "metadata": {},
   "outputs": [
    {
     "name": "stdout",
     "output_type": "stream",
     "text": [
      "blockade radius (6.9 um) < facilitation radius (16.1 um)\n",
      "blockade radius (6.9 um) < facilitation radius (13.4 um)\n",
      "blockade radius (6.9 um) < facilitation radius (12.3 um)\n",
      "blockade radius (6.9 um) < facilitation radius (11.6 um)\n",
      "blockade radius (6.9 um) < facilitation radius (11.2 um)\n",
      "blockade radius (6.9 um) < facilitation radius (10.8 um)\n",
      "blockade radius (6.9 um) < facilitation radius (10.5 um)\n",
      "blockade radius (6.9 um) < facilitation radius (10.2 um)\n",
      "blockade radius (6.9 um) < facilitation radius (10.0 um)\n",
      "blockade radius (6.9 um) < facilitation radius (9.9 um)\n",
      "blockade radius (6.9 um) < facilitation radius (9.7 um)\n",
      "blockade radius (6.9 um) < facilitation radius (9.5 um)\n",
      "blockade radius (6.9 um) < facilitation radius (9.4 um)\n",
      "blockade radius (6.9 um) < facilitation radius (9.3 um)\n",
      "blockade radius (6.9 um) < facilitation radius (9.2 um)\n",
      "blockade radius (6.9 um) < facilitation radius (9.1 um)\n",
      "blockade radius (6.9 um) < facilitation radius (9.0 um)\n",
      "blockade radius (6.9 um) < facilitation radius (8.9 um)\n",
      "blockade radius (6.9 um) < facilitation radius (8.8 um)\n",
      "blockade radius (6.9 um) < facilitation radius (8.7 um)\n",
      "blockade radius (6.9 um) < facilitation radius (8.7 um)\n",
      "blockade radius (6.9 um) < facilitation radius (8.6 um)\n",
      "blockade radius (6.9 um) < facilitation radius (8.5 um)\n",
      "blockade radius (6.9 um) < facilitation radius (8.5 um)\n",
      "blockade radius (6.9 um) < facilitation radius (8.4 um)\n",
      "blockade radius (6.9 um) < facilitation radius (8.4 um)\n",
      "blockade radius (6.9 um) < facilitation radius (8.3 um)\n",
      "blockade radius (6.9 um) < facilitation radius (8.3 um)\n",
      "blockade radius (6.9 um) < facilitation radius (8.2 um)\n",
      "blockade radius (6.9 um) < facilitation radius (8.2 um)\n",
      "blockade radius (6.9 um) < facilitation radius (8.1 um)\n",
      "blockade radius (6.9 um) < facilitation radius (8.1 um)\n",
      "blockade radius (6.9 um) < facilitation radius (8.0 um)\n",
      "blockade radius (6.9 um) < facilitation radius (8.0 um)\n",
      "blockade radius (6.9 um) < facilitation radius (7.9 um)\n",
      "blockade radius (6.9 um) < facilitation radius (7.9 um)\n",
      "blockade radius (6.9 um) < facilitation radius (7.9 um)\n",
      "blockade radius (6.9 um) < facilitation radius (7.8 um)\n",
      "blockade radius (6.9 um) < facilitation radius (7.8 um)\n",
      "blockade radius (6.9 um) < facilitation radius (7.8 um)\n",
      "blockade radius (6.9 um) < facilitation radius (7.7 um)\n",
      "blockade radius (6.9 um) < facilitation radius (7.7 um)\n",
      "blockade radius (6.9 um) < facilitation radius (7.7 um)\n",
      "blockade radius (6.9 um) < facilitation radius (7.6 um)\n",
      "blockade radius (6.9 um) < facilitation radius (7.6 um)\n",
      "blockade radius (6.9 um) < facilitation radius (7.6 um)\n",
      "blockade radius (6.9 um) < facilitation radius (7.6 um)\n",
      "blockade radius (6.9 um) < facilitation radius (7.5 um)\n",
      "blockade radius (6.9 um) < facilitation radius (7.5 um)\n",
      "blockade radius (6.9 um) < facilitation radius (7.5 um)\n",
      "blockade radius (6.9 um) < facilitation radius (7.5 um)\n",
      "blockade radius (6.9 um) < facilitation radius (7.4 um)\n",
      "blockade radius (6.9 um) < facilitation radius (7.4 um)\n",
      "blockade radius (6.9 um) < facilitation radius (7.4 um)\n",
      "blockade radius (6.9 um) < facilitation radius (7.4 um)\n",
      "blockade radius (6.9 um) < facilitation radius (7.3 um)\n",
      "blockade radius (6.9 um) < facilitation radius (7.3 um)\n",
      "blockade radius (6.9 um) < facilitation radius (7.3 um)\n",
      "blockade radius (6.9 um) < facilitation radius (7.3 um)\n",
      "blockade radius (6.9 um) < facilitation radius (7.3 um)\n",
      "blockade radius (6.9 um) < facilitation radius (7.2 um)\n",
      "blockade radius (6.9 um) < facilitation radius (7.2 um)\n",
      "blockade radius (6.9 um) < facilitation radius (7.2 um)\n",
      "blockade radius (6.9 um) < facilitation radius (7.2 um)\n",
      "blockade radius (6.9 um) < facilitation radius (7.2 um)\n",
      "blockade radius (6.9 um) < facilitation radius (7.1 um)\n",
      "blockade radius (6.9 um) < facilitation radius (7.1 um)\n",
      "blockade radius (6.9 um) < facilitation radius (7.1 um)\n",
      "blockade radius (6.9 um) < facilitation radius (7.1 um)\n",
      "blockade radius (6.9 um) < facilitation radius (7.1 um)\n",
      "blockade radius (6.9 um) < facilitation radius (7.1 um)\n",
      "blockade radius (6.9 um) < facilitation radius (7.0 um)\n",
      "blockade radius (6.9 um) < facilitation radius (7.0 um)\n",
      "blockade radius (6.9 um) < facilitation radius (7.0 um)\n",
      "blockade radius (6.9 um) < facilitation radius (7.0 um)\n",
      "blockade radius (6.9 um) < facilitation radius (7.0 um)\n",
      "blockade radius (6.9 um) < facilitation radius (7.0 um)\n",
      "blockade radius (6.9 um) < facilitation radius (6.9 um)\n",
      "blockade radius (6.9 um) < facilitation radius (6.9 um)\n",
      "blockade radius (6.9 um) < facilitation radius (6.9 um)\n"
     ]
    }
   ],
   "source": [
    "p_s = []\n",
    "p_f = []\n",
    "r = []\n",
    "detunings = np.linspace(-50,50, 1000)\n",
    "for detuning in detunings:    \n",
    "    cloud = ryperc2.cluster3D(N_atoms)\n",
    "    cloud.set_evolution_parameters(\n",
    "        two_ph_rabi_frequency,\n",
    "        dephasing,\n",
    "        detuning,\n",
    "        C6,\n",
    "        gamma_ry\n",
    "        )\n",
    "    p_s.append(cloud.spont_exct_rate)\n",
    "    p_f.append(cloud.facilitation_rate)\n",
    "    r.append(cloud.facilitation_radius)"
   ]
  },
  {
   "cell_type": "code",
   "execution_count": 26,
   "metadata": {},
   "outputs": [
    {
     "data": {
      "image/png": "[encoded data removed]",
      "text/plain": [
       "<Figure size 432x288 with 1 Axes>"
      ]
     },
     "metadata": {
      "needs_background": "light"
     },
     "output_type": "display_data"
    }
   ],
   "source": [
    "plt.plot(detunings ,p_s)\n",
    "plt.plot(detunings, p_f)\n",
    "plt.plot(detunings, r)\n",
    "plt.show()"
   ]
  },
  {
   "cell_type": "code",
   "execution_count": 27,
   "metadata": {},
   "outputs": [
    {
     "data": {
      "image/png": "[encoded data removed]",
      "text/plain": [
       "<Figure size 720x720 with 1 Axes>"
      ]
     },
     "metadata": {
      "needs_background": "light"
     },
     "output_type": "display_data"
    }
   ],
   "source": [
    "cloud = ryperc2.cluster3D(N_atoms, shape = [0.4,0.4,0.4], is_2D=True)\n",
    "cloud.set_evolution_parameters(\n",
    "    two_ph_rabi_frequency,\n",
    "    dephasing,\n",
    "    detuning,\n",
    "    C6,\n",
    "    gamma_ry\n",
    "    )\n",
    "cloud.show()"
   ]
  },
  {
   "cell_type": "code",
   "execution_count": 90,
   "metadata": {},
   "outputs": [
    {
     "data": {
      "image/png": "[encoded data removed]",
      "text/plain": [
       "<Figure size 720x720 with 1 Axes>"
      ]
     },
     "metadata": {
      "needs_background": "light"
     },
     "output_type": "display_data"
    }
   ],
   "source": [
    "cloud.evolution_step(100)\n",
    "cloud.show()"
   ]
  },
  {
   "cell_type": "code",
   "execution_count": 16,
   "metadata": {},
   "outputs": [
    {
     "name": "stdout",
     "output_type": "stream",
     "text": [
      "density =  0.0015625\n"
     ]
    }
   ],
   "source": [
    "N_atoms = 10\n",
    "two_ph_rabi_frequency = 0.2 # MHz\n",
    "dephasing = 0.7 # MHz\n",
    "detuning = 40 # MHz\n",
    "C6 = 870 * 10**3 # MHz*um^6\n",
    "gamma_ry = 0.002\n",
    "shape = [80,80,100]\n",
    "\n",
    "cloud = ryperc2.cluster3D(N_atoms, shape = shape)\n",
    "cloud.set_evolution_parameters(\n",
    "    two_ph_rabi_frequency,\n",
    "    dephasing,\n",
    "    detuning,\n",
    "    C6,\n",
    "    gamma_ry\n",
    "    )\n",
    "\n",
    "print(\"density = \", N_atoms/(shape[0]*shape[1]*shape[2]*10**-2))"
   ]
  },
  {
   "cell_type": "code",
   "execution_count": 17,
   "metadata": {},
   "outputs": [],
   "source": [
    "time = 10\n",
    "steps = 1000\n",
    "\n",
    "times = np.linspace(0, time, steps)\n",
    "\n",
    "def experiment(without_facilitation = False, seeds = 0):\n",
    "    if without_facilitation:\n",
    "        _C6=0\n",
    "    else:\n",
    "        _C6=C6\n",
    "    excs = []\n",
    "    fac_exc = []\n",
    "    repetitions = 100\n",
    "    for _ in range(repetitions):\n",
    "        clear_output(wait=True)\n",
    "        print(_)\n",
    "        cloud = ryperc2.cluster3D(N_atoms, shape = shape)\n",
    "        cloud.set_evolution_parameters(\n",
    "            two_ph_rabi_frequency,\n",
    "            dephasing,\n",
    "            detuning,\n",
    "            _C6,\n",
    "            gamma_ry\n",
    "            )\n",
    "        res, fac_res = cloud.evolve(time, steps, excitation_steps=1, seeds=seeds)\n",
    "        excs.append(res)\n",
    "        fac_exc.append(fac_res)\n",
    "    \n",
    "    return np.mean(excs, axis=0), np.mean(fac_exc, axis=0)"
   ]
  },
  {
   "cell_type": "code",
   "execution_count": 18,
   "metadata": {},
   "outputs": [
    {
     "name": "stdout",
     "output_type": "stream",
     "text": [
      "10.368999863669515 0.05714285714285716 4.374665064705984e-06 5.283356022292281 0.030819576796704974\n"
     ]
    }
   ],
   "source": [
    "print(\n",
    "    cloud.blockade_radius,\n",
    "    cloud.facilitation_rate,\n",
    "    cloud.spont_exct_rate,\n",
    "    cloud.facilitation_radius,\n",
    "    cloud.facilitation_delta_radius\n",
    ")"
   ]
  },
  {
   "cell_type": "code",
   "execution_count": 19,
   "metadata": {},
   "outputs": [
    {
     "name": "stdout",
     "output_type": "stream",
     "text": [
      "99\n"
     ]
    }
   ],
   "source": [
    "means, fac_means = experiment()\n",
    "means_3, fac_means_3 = experiment(seeds = 3)"
   ]
  },
  {
   "cell_type": "code",
   "execution_count": 20,
   "metadata": {},
   "outputs": [
    {
     "data": {
      "image/png": "[encoded data removed]",
      "text/plain": [
       "<Figure size 432x288 with 1 Axes>"
      ]
     },
     "metadata": {
      "needs_background": "light"
     },
     "output_type": "display_data"
    }
   ],
   "source": [
    "plt.plot(times, means, \"blue\")\n",
    "plt.plot(times, fac_means, \"red\")\n",
    "\n",
    "plt.plot(times, means_3, \"blue\")\n",
    "plt.plot(times, fac_means_3, \"red\")\n",
    "plt.show()"
   ]
  },
  {
   "cell_type": "code",
   "execution_count": null,
   "metadata": {},
   "outputs": [],
   "source": []
  }
 ],
 "metadata": {
  "kernelspec": {
   "display_name": "Python 3",
   "language": "python",
   "name": "python3"
  },
  "language_info": {
   "codemirror_mode": {
    "name": "ipython",
    "version": 3
   },
   "file_extension": ".py",
   "mimetype": "text/x-python",
   "name": "python",
   "nbconvert_exporter": "python",
   "pygments_lexer": "ipython3",
   "version": "3.10.2"
  },
  "orig_nbformat": 4,
  "vscode": {
   "interpreter": {
    "hash": "aee8b7b246df8f9039afb4144a1f6fd8d2ca17a180786b69acc140d282b71a49"
   }
  }
 },
 "nbformat": 4,
 "nbformat_minor": 2
}
